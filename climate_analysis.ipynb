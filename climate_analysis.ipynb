{
 "cells": [
  {
   "cell_type": "code",
   "execution_count": 110,
   "metadata": {
    "collapsed": true
   },
   "outputs": [],
   "source": [
    "import sqlalchemy\n",
    "from sqlalchemy.ext.automap import automap_base\n",
    "from sqlalchemy.orm import Session\n",
    "from sqlalchemy import create_engine, inspect, func\n",
    "import datetime as dt\n",
    "import pandas as pd\n",
    "import matplotlib\n",
    "from matplotlib import style\n",
    "style.use('seaborn')\n",
    "import matplotlib.pyplot as plt\n",
    "import numpy as np\n",
    "import seaborn as sns"
   ]
  },
  {
   "cell_type": "code",
   "execution_count": 2,
   "metadata": {},
   "outputs": [],
   "source": [
    "# trip is between 2012-03-20 to 2012-03-30\n",
    "engine = create_engine(\"sqlite:///hawaii.sqlite\")\n"
   ]
  },
  {
   "cell_type": "code",
   "execution_count": 3,
   "metadata": {},
   "outputs": [
    {
     "data": {
      "text/plain": [
       "['measurements', 'station']"
      ]
     },
     "execution_count": 3,
     "metadata": {},
     "output_type": "execute_result"
    }
   ],
   "source": [
    "inspector=inspect(engine)\n",
    "inspector.get_table_names()"
   ]
  },
  {
   "cell_type": "code",
   "execution_count": 4,
   "metadata": {},
   "outputs": [
    {
     "data": {
      "text/plain": [
       "['measurements', 'station']"
      ]
     },
     "execution_count": 4,
     "metadata": {},
     "output_type": "execute_result"
    }
   ],
   "source": [
    "#Use SQLAlchemy automap_base() to reflect your tables into classes and save a reference to those classes called Station and Measurement.\n",
    "Base = automap_base()\n",
    "Base.prepare(engine, reflect=True)\n",
    "Base.classes.keys()\n"
   ]
  },
  {
   "cell_type": "code",
   "execution_count": 5,
   "metadata": {},
   "outputs": [],
   "source": [
    "#add tables to orm class\n",
    "Station = Base.classes.station\n",
    "Measurements = Base.classes.measurements"
   ]
  },
  {
   "cell_type": "code",
   "execution_count": 6,
   "metadata": {
    "collapsed": true
   },
   "outputs": [],
   "source": [
    "#starting a session\n",
    "session = Session(engine)"
   ]
  },
  {
   "cell_type": "markdown",
   "metadata": {},
   "source": [
    "# Precipitation Analysis"
   ]
  },
  {
   "cell_type": "code",
   "execution_count": 7,
   "metadata": {},
   "outputs": [
    {
     "data": {
      "text/plain": [
       "('2017-08-23')"
      ]
     },
     "execution_count": 7,
     "metadata": {},
     "output_type": "execute_result"
    }
   ],
   "source": [
    "#Finding what is the last day of data on the measurment table\n",
    "last_date = session.query(func.max(Measurements.date)).first()\n",
    "last_date"
   ]
  },
  {
   "cell_type": "code",
   "execution_count": 8,
   "metadata": {},
   "outputs": [
    {
     "data": {
      "text/plain": [
       "datetime.date(2016, 8, 23)"
      ]
     },
     "execution_count": 8,
     "metadata": {},
     "output_type": "execute_result"
    }
   ],
   "source": [
    "#getting the date for one year ago\n",
    "last_year = dt.date(2017, 8, 23) - dt.timedelta(days=365)\n",
    "last_year"
   ]
  },
  {
   "cell_type": "code",
   "execution_count": 9,
   "metadata": {},
   "outputs": [
    {
     "data": {
      "text/html": [
       "<div>\n",
       "<style>\n",
       "    .dataframe thead tr:only-child th {\n",
       "        text-align: right;\n",
       "    }\n",
       "\n",
       "    .dataframe thead th {\n",
       "        text-align: left;\n",
       "    }\n",
       "\n",
       "    .dataframe tbody tr th {\n",
       "        vertical-align: top;\n",
       "    }\n",
       "</style>\n",
       "<table border=\"1\" class=\"dataframe\">\n",
       "  <thead>\n",
       "    <tr style=\"text-align: right;\">\n",
       "      <th></th>\n",
       "      <th>date</th>\n",
       "      <th>prcp</th>\n",
       "    </tr>\n",
       "  </thead>\n",
       "  <tbody>\n",
       "    <tr>\n",
       "      <th>0</th>\n",
       "      <td>2016-08-24</td>\n",
       "      <td>0.08</td>\n",
       "    </tr>\n",
       "    <tr>\n",
       "      <th>1</th>\n",
       "      <td>2016-08-24</td>\n",
       "      <td>2.15</td>\n",
       "    </tr>\n",
       "    <tr>\n",
       "      <th>2</th>\n",
       "      <td>2016-08-24</td>\n",
       "      <td>2.28</td>\n",
       "    </tr>\n",
       "    <tr>\n",
       "      <th>3</th>\n",
       "      <td>2016-08-24</td>\n",
       "      <td>1.22</td>\n",
       "    </tr>\n",
       "    <tr>\n",
       "      <th>4</th>\n",
       "      <td>2016-08-24</td>\n",
       "      <td>2.15</td>\n",
       "    </tr>\n",
       "  </tbody>\n",
       "</table>\n",
       "</div>"
      ],
      "text/plain": [
       "         date  prcp\n",
       "0  2016-08-24  0.08\n",
       "1  2016-08-24  2.15\n",
       "2  2016-08-24  2.28\n",
       "3  2016-08-24  1.22\n",
       "4  2016-08-24  2.15"
      ]
     },
     "execution_count": 9,
     "metadata": {},
     "output_type": "execute_result"
    }
   ],
   "source": [
    "#getting the last 12 months data\n",
    "perc_one_year = session.query(\n",
    "    Measurements.date, Measurements.prcp).filter(\n",
    "    Measurements.date> last_year\n",
    "        ).order_by(Measurements.date).all()\n",
    "perc_df=pd.DataFrame(perc_one_year)\n",
    "perc_df.head()\n"
   ]
  },
  {
   "cell_type": "code",
   "execution_count": 10,
   "metadata": {},
   "outputs": [
    {
     "data": {
      "image/png": "[encoded data removed]",
      "text/plain": [
       "<matplotlib.figure.Figure at 0x10dbd94a8>"
      ]
     },
     "metadata": {},
     "output_type": "display_data"
    }
   ],
   "source": [
    "#plotting the data\n",
    "perc_df.plot('date', 'prcp')\n",
    "plt.xlabel('date')\n",
    "plt.ylabel('rain')\n",
    "plt.title('Precipitation between 08-24-16 to 08-23-2017')\n",
    "plt.legend('Precipitation',loc='upper left')\n",
    "plt.xticks(rotation=45)\n",
    "plt.show()"
   ]
  },
  {
   "cell_type": "markdown",
   "metadata": {},
   "source": [
    "# Station Analysis"
   ]
  },
  {
   "cell_type": "code",
   "execution_count": 18,
   "metadata": {},
   "outputs": [
    {
     "data": {
      "text/plain": [
       "9"
      ]
     },
     "execution_count": 18,
     "metadata": {},
     "output_type": "execute_result"
    }
   ],
   "source": [
    "#Total number of stations\n",
    "total_stations = session.query(Station.station).count()\n",
    "total_stations"
   ]
  },
  {
   "cell_type": "code",
   "execution_count": 45,
   "metadata": {},
   "outputs": [],
   "source": [
    "#Most active station\n",
    "station_active = session.query(\n",
    "    Measurements.station, func.count(Measurements.date)\n",
    "        ).group_by(Measurements.station).order_by(\n",
    "        func.count(Measurements.date).desc()).all()\n"
   ]
  },
  {
   "cell_type": "code",
   "execution_count": 55,
   "metadata": {},
   "outputs": [
    {
     "data": {
      "text/html": [
       "<div>\n",
       "<style>\n",
       "    .dataframe thead tr:only-child th {\n",
       "        text-align: right;\n",
       "    }\n",
       "\n",
       "    .dataframe thead th {\n",
       "        text-align: left;\n",
       "    }\n",
       "\n",
       "    .dataframe tbody tr th {\n",
       "        vertical-align: top;\n",
       "    }\n",
       "</style>\n",
       "<table border=\"1\" class=\"dataframe\">\n",
       "  <thead>\n",
       "    <tr style=\"text-align: right;\">\n",
       "      <th></th>\n",
       "      <th>station</th>\n",
       "      <th>tobs</th>\n",
       "    </tr>\n",
       "  </thead>\n",
       "  <tbody>\n",
       "    <tr>\n",
       "      <th>0</th>\n",
       "      <td>USC00519281</td>\n",
       "      <td>2772</td>\n",
       "    </tr>\n",
       "    <tr>\n",
       "      <th>1</th>\n",
       "      <td>USC00513117</td>\n",
       "      <td>2696</td>\n",
       "    </tr>\n",
       "    <tr>\n",
       "      <th>2</th>\n",
       "      <td>USC00519397</td>\n",
       "      <td>2685</td>\n",
       "    </tr>\n",
       "    <tr>\n",
       "      <th>3</th>\n",
       "      <td>USC00519523</td>\n",
       "      <td>2572</td>\n",
       "    </tr>\n",
       "    <tr>\n",
       "      <th>4</th>\n",
       "      <td>USC00516128</td>\n",
       "      <td>2484</td>\n",
       "    </tr>\n",
       "    <tr>\n",
       "      <th>5</th>\n",
       "      <td>USC00514830</td>\n",
       "      <td>1937</td>\n",
       "    </tr>\n",
       "    <tr>\n",
       "      <th>6</th>\n",
       "      <td>USC00511918</td>\n",
       "      <td>1932</td>\n",
       "    </tr>\n",
       "    <tr>\n",
       "      <th>7</th>\n",
       "      <td>USC00517948</td>\n",
       "      <td>683</td>\n",
       "    </tr>\n",
       "    <tr>\n",
       "      <th>8</th>\n",
       "      <td>USC00518838</td>\n",
       "      <td>342</td>\n",
       "    </tr>\n",
       "  </tbody>\n",
       "</table>\n",
       "</div>"
      ],
      "text/plain": [
       "       station  tobs\n",
       "0  USC00519281  2772\n",
       "1  USC00513117  2696\n",
       "2  USC00519397  2685\n",
       "3  USC00519523  2572\n",
       "4  USC00516128  2484\n",
       "5  USC00514830  1937\n",
       "6  USC00511918  1932\n",
       "7  USC00517948   683\n",
       "8  USC00518838   342"
      ]
     },
     "execution_count": 55,
     "metadata": {},
     "output_type": "execute_result"
    }
   ],
   "source": [
    "active_station=pd.DataFrame(grouped, columns=['station', 'tobs'])\n",
    "active_station"
   ]
  },
  {
   "cell_type": "code",
   "execution_count": 56,
   "metadata": {},
   "outputs": [
    {
     "name": "stdout",
     "output_type": "stream",
     "text": [
      "The most active station is USC00519281 with 2772 numner of observation\n"
     ]
    }
   ],
   "source": [
    "print(\n",
    "    'The most active station is {} with {} numner of observation'.format(\n",
    "    grouped[0][0], grouped[0][1]))\n"
   ]
  },
  {
   "cell_type": "code",
   "execution_count": 71,
   "metadata": {},
   "outputs": [
    {
     "data": {
      "text/plain": [
       "'USC00519281'"
      ]
     },
     "execution_count": 71,
     "metadata": {},
     "output_type": "execute_result"
    }
   ],
   "source": [
    "most_active=grouped[0][0]\n",
    "most_active"
   ]
  },
  {
   "cell_type": "code",
   "execution_count": 72,
   "metadata": {},
   "outputs": [
    {
     "name": "stdout",
     "output_type": "stream",
     "text": [
      "Station USC00519281 had 2772 observatons.\n",
      "Station USC00513117 had 2696 observatons.\n",
      "Station USC00519397 had 2685 observatons.\n",
      "Station USC00519523 had 2572 observatons.\n",
      "Station USC00516128 had 2484 observatons.\n",
      "Station USC00514830 had 1937 observatons.\n",
      "Station USC00511918 had 1932 observatons.\n",
      "Station USC00517948 had 683 observatons.\n",
      "Station USC00518838 had 342 observatons.\n"
     ]
    }
   ],
   "source": [
    "#Print the \n",
    "for station in range(total_station):\n",
    "    print ('Station {} had {} observatons.'.format (grouped[station][0], grouped[station][1]))"
   ]
  },
  {
   "cell_type": "code",
   "execution_count": 76,
   "metadata": {},
   "outputs": [],
   "source": [
    "temperature_obs = session.query(\n",
    "    Measurements.date, Measurements.tobs).filter(\n",
    "    Measurements.station==most_active).filter(\n",
    "    Measurements.date>last_year).order_by(\n",
    "        Measurements.date).all()"
   ]
  },
  {
   "cell_type": "code",
   "execution_count": 77,
   "metadata": {},
   "outputs": [
    {
     "data": {
      "text/plain": [
       "[('2016-08-24', 77),\n",
       " ('2016-08-25', 80),\n",
       " ('2016-08-26', 80),\n",
       " ('2016-08-27', 75),\n",
       " ('2016-08-28', 73),\n",
       " ('2016-08-29', 78),\n",
       " ('2016-08-30', 77),\n",
       " ('2016-08-31', 78),\n",
       " ('2016-09-01', 80),\n",
       " ('2016-09-02', 80),\n",
       " ('2016-09-03', 78),\n",
       " ('2016-09-04', 78),\n",
       " ('2016-09-05', 78),\n",
       " ('2016-09-06', 73),\n",
       " ('2016-09-07', 74),\n",
       " ('2016-09-08', 80),\n",
       " ('2016-09-09', 79),\n",
       " ('2016-09-10', 77),\n",
       " ('2016-09-11', 80),\n",
       " ('2016-09-12', 76),\n",
       " ('2016-09-13', 79),\n",
       " ('2016-09-14', 75),\n",
       " ('2016-09-15', 79),\n",
       " ('2016-09-16', 78),\n",
       " ('2016-09-17', 79),\n",
       " ('2016-09-18', 78),\n",
       " ('2016-09-19', 78),\n",
       " ('2016-09-20', 76),\n",
       " ('2016-09-21', 74),\n",
       " ('2016-09-22', 77),\n",
       " ('2016-09-23', 78),\n",
       " ('2016-09-24', 79),\n",
       " ('2016-09-25', 79),\n",
       " ('2016-09-26', 77),\n",
       " ('2016-09-27', 80),\n",
       " ('2016-09-28', 78),\n",
       " ('2016-09-29', 78),\n",
       " ('2016-09-30', 78),\n",
       " ('2016-10-01', 77),\n",
       " ('2016-10-02', 79),\n",
       " ('2016-10-03', 79),\n",
       " ('2016-10-04', 79),\n",
       " ('2016-10-05', 79),\n",
       " ('2016-10-06', 75),\n",
       " ('2016-10-07', 76),\n",
       " ('2016-10-08', 73),\n",
       " ('2016-10-09', 72),\n",
       " ('2016-10-10', 71),\n",
       " ('2016-10-11', 77),\n",
       " ('2016-10-12', 79),\n",
       " ('2016-10-13', 78),\n",
       " ('2016-10-14', 79),\n",
       " ('2016-10-15', 77),\n",
       " ('2016-10-16', 79),\n",
       " ('2016-10-17', 77),\n",
       " ('2016-10-18', 78),\n",
       " ('2016-10-19', 78),\n",
       " ('2016-10-20', 78),\n",
       " ('2016-10-21', 78),\n",
       " ('2016-10-22', 77),\n",
       " ('2016-10-23', 74),\n",
       " ('2016-10-24', 75),\n",
       " ('2016-10-25', 76),\n",
       " ('2016-10-26', 73),\n",
       " ('2016-10-27', 76),\n",
       " ('2016-10-28', 74),\n",
       " ('2016-10-29', 77),\n",
       " ('2016-10-30', 76),\n",
       " ('2016-10-31', 76),\n",
       " ('2016-11-01', 74),\n",
       " ('2016-11-02', 75),\n",
       " ('2016-11-03', 75),\n",
       " ('2016-11-04', 75),\n",
       " ('2016-11-05', 75),\n",
       " ('2016-11-06', 71),\n",
       " ('2016-11-07', 63),\n",
       " ('2016-11-08', 70),\n",
       " ('2016-11-09', 68),\n",
       " ('2016-11-10', 67),\n",
       " ('2016-11-11', 77),\n",
       " ('2016-11-12', 74),\n",
       " ('2016-11-13', 77),\n",
       " ('2016-11-14', 76),\n",
       " ('2016-11-15', 76),\n",
       " ('2016-11-16', 75),\n",
       " ('2016-11-17', 76),\n",
       " ('2016-11-18', 75),\n",
       " ('2016-11-19', 73),\n",
       " ('2016-11-20', 75),\n",
       " ('2016-11-21', 73),\n",
       " ('2016-11-22', 75),\n",
       " ('2016-11-23', 74),\n",
       " ('2016-11-24', 75),\n",
       " ('2016-11-25', 74),\n",
       " ('2016-11-26', 75),\n",
       " ('2016-11-27', 73),\n",
       " ('2016-11-28', 75),\n",
       " ('2016-11-29', 73),\n",
       " ('2016-11-30', 73),\n",
       " ('2016-12-01', 74),\n",
       " ('2016-12-02', 70),\n",
       " ('2016-12-03', 72),\n",
       " ('2016-12-04', 70),\n",
       " ('2016-12-05', 67),\n",
       " ('2016-12-06', 67),\n",
       " ('2016-12-07', 69),\n",
       " ('2016-12-08', 70),\n",
       " ('2016-12-09', 68),\n",
       " ('2016-12-10', 69),\n",
       " ('2016-12-11', 69),\n",
       " ('2016-12-12', 66),\n",
       " ('2016-12-13', 65),\n",
       " ('2016-12-14', 68),\n",
       " ('2016-12-15', 62),\n",
       " ('2016-12-16', 75),\n",
       " ('2016-12-17', 70),\n",
       " ('2016-12-18', 69),\n",
       " ('2016-12-19', 76),\n",
       " ('2016-12-20', 76),\n",
       " ('2016-12-21', 74),\n",
       " ('2016-12-22', 73),\n",
       " ('2016-12-23', 71),\n",
       " ('2016-12-24', 74),\n",
       " ('2016-12-25', 74),\n",
       " ('2016-12-26', 72),\n",
       " ('2016-12-27', 71),\n",
       " ('2016-12-28', 72),\n",
       " ('2016-12-29', 74),\n",
       " ('2016-12-30', 69),\n",
       " ('2016-12-31', 67),\n",
       " ('2017-01-01', 72),\n",
       " ('2017-01-02', 70),\n",
       " ('2017-01-03', 64),\n",
       " ('2017-01-04', 63),\n",
       " ('2017-01-05', 63),\n",
       " ('2017-01-06', 62),\n",
       " ('2017-01-07', 70),\n",
       " ('2017-01-08', 70),\n",
       " ('2017-01-09', 62),\n",
       " ('2017-01-10', 62),\n",
       " ('2017-01-11', 63),\n",
       " ('2017-01-12', 65),\n",
       " ('2017-01-13', 69),\n",
       " ('2017-01-14', 77),\n",
       " ('2017-01-15', 70),\n",
       " ('2017-01-16', 74),\n",
       " ('2017-01-17', 69),\n",
       " ('2017-01-18', 72),\n",
       " ('2017-01-19', 71),\n",
       " ('2017-01-20', 69),\n",
       " ('2017-01-21', 71),\n",
       " ('2017-01-22', 71),\n",
       " ('2017-01-23', 72),\n",
       " ('2017-01-24', 72),\n",
       " ('2017-01-25', 69),\n",
       " ('2017-01-26', 70),\n",
       " ('2017-01-27', 66),\n",
       " ('2017-01-28', 65),\n",
       " ('2017-01-29', 69),\n",
       " ('2017-01-30', 68),\n",
       " ('2017-01-31', 68),\n",
       " ('2017-02-01', 68),\n",
       " ('2017-02-02', 59),\n",
       " ('2017-02-03', 60),\n",
       " ('2017-02-04', 70),\n",
       " ('2017-02-05', 73),\n",
       " ('2017-02-06', 75),\n",
       " ('2017-02-07', 64),\n",
       " ('2017-02-08', 59),\n",
       " ('2017-02-09', 59),\n",
       " ('2017-02-10', 62),\n",
       " ('2017-02-11', 68),\n",
       " ('2017-02-12', 70),\n",
       " ('2017-02-13', 73),\n",
       " ('2017-02-14', 79),\n",
       " ('2017-02-15', 75),\n",
       " ('2017-02-16', 65),\n",
       " ('2017-02-17', 70),\n",
       " ('2017-02-18', 74),\n",
       " ('2017-02-19', 70),\n",
       " ('2017-02-20', 70),\n",
       " ('2017-02-21', 71),\n",
       " ('2017-02-22', 71),\n",
       " ('2017-02-23', 71),\n",
       " ('2017-02-24', 69),\n",
       " ('2017-02-25', 61),\n",
       " ('2017-02-26', 67),\n",
       " ('2017-02-27', 65),\n",
       " ('2017-02-28', 72),\n",
       " ('2017-03-01', 71),\n",
       " ('2017-03-02', 73),\n",
       " ('2017-03-03', 72),\n",
       " ('2017-03-04', 77),\n",
       " ('2017-03-05', 73),\n",
       " ('2017-03-06', 67),\n",
       " ('2017-03-07', 62),\n",
       " ('2017-03-08', 64),\n",
       " ('2017-03-09', 67),\n",
       " ('2017-03-10', 66),\n",
       " ('2017-03-11', 81),\n",
       " ('2017-03-12', 69),\n",
       " ('2017-03-13', 66),\n",
       " ('2017-03-14', 67),\n",
       " ('2017-03-15', 69),\n",
       " ('2017-03-16', 66),\n",
       " ('2017-03-17', 68),\n",
       " ('2017-03-18', 65),\n",
       " ('2017-03-19', 74),\n",
       " ('2017-03-20', 69),\n",
       " ('2017-03-21', 72),\n",
       " ('2017-03-22', 73),\n",
       " ('2017-03-23', 72),\n",
       " ('2017-03-24', 71),\n",
       " ('2017-03-25', 76),\n",
       " ('2017-03-26', 77),\n",
       " ('2017-03-27', 76),\n",
       " ('2017-03-28', 74),\n",
       " ('2017-03-29', 68),\n",
       " ('2017-03-30', 73),\n",
       " ('2017-03-31', 71),\n",
       " ('2017-04-01', 74),\n",
       " ('2017-04-02', 75),\n",
       " ('2017-04-03', 70),\n",
       " ('2017-04-04', 67),\n",
       " ('2017-04-05', 71),\n",
       " ('2017-04-06', 67),\n",
       " ('2017-04-07', 74),\n",
       " ('2017-04-08', 77),\n",
       " ('2017-04-09', 78),\n",
       " ('2017-04-10', 67),\n",
       " ('2017-04-11', 70),\n",
       " ('2017-04-12', 69),\n",
       " ('2017-04-13', 69),\n",
       " ('2017-04-14', 74),\n",
       " ('2017-04-15', 78),\n",
       " ('2017-04-16', 71),\n",
       " ('2017-04-17', 67),\n",
       " ('2017-04-18', 68),\n",
       " ('2017-04-19', 67),\n",
       " ('2017-04-20', 76),\n",
       " ('2017-04-21', 69),\n",
       " ('2017-04-22', 72),\n",
       " ('2017-04-23', 76),\n",
       " ('2017-04-24', 68),\n",
       " ('2017-04-25', 72),\n",
       " ('2017-04-26', 74),\n",
       " ('2017-04-27', 70),\n",
       " ('2017-04-28', 67),\n",
       " ('2017-04-29', 72),\n",
       " ('2017-04-30', 60),\n",
       " ('2017-05-01', 65),\n",
       " ('2017-05-02', 75),\n",
       " ('2017-05-03', 70),\n",
       " ('2017-05-04', 75),\n",
       " ('2017-05-05', 70),\n",
       " ('2017-05-06', 79),\n",
       " ('2017-05-07', 75),\n",
       " ('2017-05-08', 70),\n",
       " ('2017-05-09', 67),\n",
       " ('2017-05-10', 74),\n",
       " ('2017-05-11', 70),\n",
       " ('2017-05-12', 75),\n",
       " ('2017-05-13', 76),\n",
       " ('2017-05-14', 77),\n",
       " ('2017-05-15', 74),\n",
       " ('2017-05-16', 74),\n",
       " ('2017-05-17', 74),\n",
       " ('2017-05-18', 69),\n",
       " ('2017-05-19', 68),\n",
       " ('2017-05-20', 76),\n",
       " ('2017-05-21', 74),\n",
       " ('2017-05-22', 71),\n",
       " ('2017-05-23', 71),\n",
       " ('2017-05-24', 74),\n",
       " ('2017-05-25', 74),\n",
       " ('2017-05-26', 74),\n",
       " ('2017-05-27', 74),\n",
       " ('2017-05-28', 80),\n",
       " ('2017-05-29', 74),\n",
       " ('2017-05-30', 72),\n",
       " ('2017-05-31', 75),\n",
       " ('2017-06-01', 80),\n",
       " ('2017-06-02', 76),\n",
       " ('2017-06-03', 76),\n",
       " ('2017-06-04', 77),\n",
       " ('2017-06-05', 75),\n",
       " ('2017-06-06', 75),\n",
       " ('2017-06-07', 75),\n",
       " ('2017-06-08', 75),\n",
       " ('2017-06-09', 72),\n",
       " ('2017-06-10', 74),\n",
       " ('2017-06-11', 74),\n",
       " ('2017-06-12', 74),\n",
       " ('2017-06-13', 76),\n",
       " ('2017-06-14', 74),\n",
       " ('2017-06-15', 75),\n",
       " ('2017-06-16', 73),\n",
       " ('2017-06-17', 79),\n",
       " ('2017-06-18', 75),\n",
       " ('2017-06-19', 72),\n",
       " ('2017-06-20', 72),\n",
       " ('2017-06-21', 74),\n",
       " ('2017-06-22', 72),\n",
       " ('2017-06-23', 72),\n",
       " ('2017-06-24', 77),\n",
       " ('2017-06-25', 71),\n",
       " ('2017-06-26', 73),\n",
       " ('2017-06-27', 76),\n",
       " ('2017-06-28', 77),\n",
       " ('2017-06-29', 76),\n",
       " ('2017-06-30', 76),\n",
       " ('2017-07-01', 79),\n",
       " ('2017-07-02', 81),\n",
       " ('2017-07-03', 76),\n",
       " ('2017-07-04', 78),\n",
       " ('2017-07-05', 77),\n",
       " ('2017-07-06', 74),\n",
       " ('2017-07-07', 75),\n",
       " ('2017-07-08', 78),\n",
       " ('2017-07-09', 78),\n",
       " ('2017-07-10', 69),\n",
       " ('2017-07-11', 72),\n",
       " ('2017-07-12', 74),\n",
       " ('2017-07-13', 74),\n",
       " ('2017-07-14', 76),\n",
       " ('2017-07-15', 80),\n",
       " ('2017-07-16', 80),\n",
       " ('2017-07-17', 76),\n",
       " ('2017-07-18', 76),\n",
       " ('2017-07-19', 76),\n",
       " ('2017-07-20', 77),\n",
       " ('2017-07-21', 77),\n",
       " ('2017-07-22', 77),\n",
       " ('2017-07-23', 82),\n",
       " ('2017-07-24', 75),\n",
       " ('2017-07-25', 77),\n",
       " ('2017-07-26', 75),\n",
       " ('2017-07-27', 76),\n",
       " ('2017-07-28', 81),\n",
       " ('2017-07-29', 82),\n",
       " ('2017-07-30', 81),\n",
       " ('2017-07-31', 76),\n",
       " ('2017-08-04', 77),\n",
       " ('2017-08-05', 82),\n",
       " ('2017-08-06', 83),\n",
       " ('2017-08-13', 77),\n",
       " ('2017-08-14', 77),\n",
       " ('2017-08-15', 77),\n",
       " ('2017-08-16', 76),\n",
       " ('2017-08-17', 76),\n",
       " ('2017-08-18', 79)]"
      ]
     },
     "execution_count": 77,
     "metadata": {},
     "output_type": "execute_result"
    }
   ],
   "source": [
    "temperature_obs"
   ]
  },
  {
   "cell_type": "code",
   "execution_count": 78,
   "metadata": {
    "collapsed": true
   },
   "outputs": [],
   "source": [
    "temperature_df=pd.DataFrame(temperature_obs)"
   ]
  },
  {
   "cell_type": "code",
   "execution_count": 80,
   "metadata": {},
   "outputs": [
    {
     "data": {
      "text/html": [
       "<div>\n",
       "<style>\n",
       "    .dataframe thead tr:only-child th {\n",
       "        text-align: right;\n",
       "    }\n",
       "\n",
       "    .dataframe thead th {\n",
       "        text-align: left;\n",
       "    }\n",
       "\n",
       "    .dataframe tbody tr th {\n",
       "        vertical-align: top;\n",
       "    }\n",
       "</style>\n",
       "<table border=\"1\" class=\"dataframe\">\n",
       "  <thead>\n",
       "    <tr style=\"text-align: right;\">\n",
       "      <th></th>\n",
       "      <th>date</th>\n",
       "      <th>tobs</th>\n",
       "    </tr>\n",
       "  </thead>\n",
       "  <tbody>\n",
       "    <tr>\n",
       "      <th>0</th>\n",
       "      <td>2016-08-24</td>\n",
       "      <td>77</td>\n",
       "    </tr>\n",
       "    <tr>\n",
       "      <th>1</th>\n",
       "      <td>2016-08-25</td>\n",
       "      <td>80</td>\n",
       "    </tr>\n",
       "    <tr>\n",
       "      <th>2</th>\n",
       "      <td>2016-08-26</td>\n",
       "      <td>80</td>\n",
       "    </tr>\n",
       "    <tr>\n",
       "      <th>3</th>\n",
       "      <td>2016-08-27</td>\n",
       "      <td>75</td>\n",
       "    </tr>\n",
       "    <tr>\n",
       "      <th>4</th>\n",
       "      <td>2016-08-28</td>\n",
       "      <td>73</td>\n",
       "    </tr>\n",
       "  </tbody>\n",
       "</table>\n",
       "</div>"
      ],
      "text/plain": [
       "         date  tobs\n",
       "0  2016-08-24    77\n",
       "1  2016-08-25    80\n",
       "2  2016-08-26    80\n",
       "3  2016-08-27    75\n",
       "4  2016-08-28    73"
      ]
     },
     "execution_count": 80,
     "metadata": {},
     "output_type": "execute_result"
    }
   ],
   "source": [
    "temperature_df.head()"
   ]
  },
  {
   "cell_type": "code",
   "execution_count": 85,
   "metadata": {},
   "outputs": [
    {
     "data": {
      "image/png": "[encoded data removed]",
      "text/plain": [
       "<matplotlib.figure.Figure at 0x117baf748>"
      ]
     },
     "metadata": {},
     "output_type": "display_data"
    }
   ],
   "source": [
    "plt.hist(temperature_df['tobs'], bins=12)\n",
    "plt.legend('tobs')\n",
    "plt.ylabel('Frequency')\n",
    "plt.show()\n"
   ]
  },
  {
   "cell_type": "markdown",
   "metadata": {},
   "source": [
    "# Temperature Analysis"
   ]
  },
  {
   "cell_type": "code",
   "execution_count": 89,
   "metadata": {},
   "outputs": [],
   "source": [
    "# function will get start and end date and returns minimum, maximum and average temperatures for that range of date\n",
    "def calc_temp(start_date, end_date):\n",
    "    return session.query(func.min(Measurements.tobs), func.max(Measurements.tobs), func.avg(Measurements.tobs)\n",
    "                        ).filter(Measurements.date.between(start_date, end_date)).all()"
   ]
  },
  {
   "cell_type": "code",
   "execution_count": 90,
   "metadata": {},
   "outputs": [
    {
     "data": {
      "text/plain": [
       "[(59, 80, 69.53097345132744)]"
      ]
     },
     "execution_count": 90,
     "metadata": {},
     "output_type": "execute_result"
    }
   ],
   "source": [
    "#testing the function\n",
    "calc_temp('2017-01-01', '2017-03-01')    "
   ]
  },
  {
   "cell_type": "code",
   "execution_count": 145,
   "metadata": {},
   "outputs": [
    {
     "data": {
      "text/plain": [
       "(58, 81, 73.94)"
      ]
     },
     "execution_count": 145,
     "metadata": {},
     "output_type": "execute_result"
    }
   ],
   "source": [
    "# calculate the min/max/avg from one year before the trip range\n",
    "start_trip = dt.date(2018,4,23)\n",
    "end_trip = dt.date(2018,5,10)\n",
    "one_year = dt.timedelta(days=365)\n",
    "temp = calc_temp(start_trip-one_year , end_trip-one_year)\n",
    "temp=temp[0]\n",
    "temp"
   ]
  },
  {
   "cell_type": "code",
   "execution_count": 146,
   "metadata": {},
   "outputs": [
    {
     "data": {
      "image/png": "[encoded data removed]",
      "text/plain": [
       "<matplotlib.figure.Figure at 0x11806e2e8>"
      ]
     },
     "metadata": {},
     "output_type": "display_data"
    }
   ],
   "source": [
    "#box plot of the min/max/avg temperature of last year\n",
    "fig, ax = plt.subplots()\n",
    "x = range(len(temp))\n",
    "ax.boxplot(temp, patch_artist=True)\n",
    "ax.set_ylabel(\"Temp(F)\")\n",
    "ax.set_title(\"Trip Avg Temp\")\n",
    "plt.show()"
   ]
  },
  {
   "cell_type": "code",
   "execution_count": 147,
   "metadata": {},
   "outputs": [
    {
     "data": {
      "image/png": "[encoded data removed]",
      "text/plain": [
       "<matplotlib.figure.Figure at 0x1a1aec4c88>"
      ]
     },
     "metadata": {},
     "output_type": "display_data"
    }
   ],
   "source": [
    "#Use the peak-to-peak (tmax-tmin) value as the y error bar (yerr).\n",
    "peak_to_peak = temp[1]-temp[0]\n",
    "min_temp = temp[0]\n",
    "max_temp = temp[1]\n",
    "avg_temp = temp[2]\n",
    "fig , ax = plt.subplots()\n",
    "chart= ax.bar(1, avg_temp, yerr=peak_to_peak)\n",
    "ax.set_ylabel(\"Temp\")\n",
    "ax.set_title(\"Avg temp a year ago\")\n",
    "plt.show()"
   ]
  },
  {
   "cell_type": "markdown",
   "metadata": {},
   "source": [
    "# Optional Recommended Analysis"
   ]
  },
  {
   "cell_type": "code",
   "execution_count": null,
   "metadata": {
    "collapsed": true
   },
   "outputs": [],
   "source": []
  },
  {
   "cell_type": "code",
   "execution_count": null,
   "metadata": {
    "collapsed": true
   },
   "outputs": [],
   "source": []
  },
  {
   "cell_type": "markdown",
   "metadata": {},
   "source": [
    "# Step 4 - Climate App"
   ]
  },
  {
   "cell_type": "code",
   "execution_count": 153,
   "metadata": {},
   "outputs": [],
   "source": []
  },
  {
   "cell_type": "code",
   "execution_count": null,
   "metadata": {
    "collapsed": true
   },
   "outputs": [],
   "source": []
  },
  {
   "cell_type": "code",
   "execution_count": null,
   "metadata": {
    "collapsed": true
   },
   "outputs": [],
   "source": []
  }
 ],
 "metadata": {
  "kernelspec": {
   "display_name": "Python [conda env:PythonData]",
   "language": "python",
   "name": "conda-env-PythonData-py"
  },
  "language_info": {
   "codemirror_mode": {
    "name": "ipython",
    "version": 3
   },
   "file_extension": ".py",
   "mimetype": "text/x-python",
   "name": "python",
   "nbconvert_exporter": "python",
   "pygments_lexer": "ipython3",
   "version": "3.6.3"
  }
 },
 "nbformat": 4,
 "nbformat_minor": 2
}
